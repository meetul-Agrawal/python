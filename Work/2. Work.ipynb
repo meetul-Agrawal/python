{
 "cells": [
  {
   "cell_type": "markdown",
   "id": "7fed7925",
   "metadata": {},
   "source": [
    "#### 1. Program to convert celsius to fahrenheit"
   ]
  },
  {
   "cell_type": "code",
   "execution_count": 1,
   "id": "d19a65b6",
   "metadata": {},
   "outputs": [
    {
     "name": "stdout",
     "output_type": "stream",
     "text": [
      "Enter a number in Celsius : 46\n",
      "46 Celsius to fahrenheit is 114.8\n"
     ]
    }
   ],
   "source": [
    "celsius = int(input(\"Enter a number in Celsius : \"))\n",
    "fah = celsius * 9/5 + 32\n",
    "print(celsius,\"Celsius to fahrenheit is\",fah)"
   ]
  },
  {
   "cell_type": "markdown",
   "id": "999b9367",
   "metadata": {},
   "source": [
    "#### 2. Program to find whether a number is Prime or not"
   ]
  },
  {
   "cell_type": "code",
   "execution_count": 2,
   "id": "921aa66a",
   "metadata": {},
   "outputs": [
    {
     "name": "stdout",
     "output_type": "stream",
     "text": [
      "Enter a number :13\n",
      "13 is a prime number\n"
     ]
    }
   ],
   "source": [
    "num = int(input(\"Enter a number :\"))\n",
    "flag = 0\n",
    "for i in range(2,round(num/2)):\n",
    "    if num % i == 0:\n",
    "        flag = 1\n",
    "        break\n",
    "    else:\n",
    "        flag = 0\n",
    "if flag == 0:\n",
    "    print(num,\"is a prime number\")\n",
    "else:\n",
    "    print(num,\"is not a prime number\")"
   ]
  },
  {
   "cell_type": "markdown",
   "id": "e8743e93",
   "metadata": {},
   "source": [
    "#### 3. Program to find LCM"
   ]
  },
  {
   "cell_type": "code",
   "execution_count": 3,
   "id": "fab788f9",
   "metadata": {},
   "outputs": [
    {
     "name": "stdout",
     "output_type": "stream",
     "text": [
      "Enter the first number: 12\n",
      "Enter the second number: 15\n",
      "The LCM of 12 and 15 is 60\n"
     ]
    }
   ],
   "source": [
    "def gcd(a, b):\n",
    "    while b:\n",
    "        a, b = b, a % b\n",
    "    return a\n",
    "\n",
    "def lcm(a, b):\n",
    "    return (a * b) // gcd(a, b)\n",
    "\n",
    "num1 = int(input(\"Enter the first number: \"))\n",
    "num2 = int(input(\"Enter the second number: \"))\n",
    "lcm = lcm(num1, num2)\n",
    "print(\"The LCM of\",num1,\"and\",num2, \"is\",lcm)"
   ]
  },
  {
   "cell_type": "markdown",
   "id": "d89f2cb6",
   "metadata": {},
   "source": [
    "#### 4. Program to find HCF"
   ]
  },
  {
   "cell_type": "code",
   "execution_count": 4,
   "id": "5de9e3ed",
   "metadata": {},
   "outputs": [
    {
     "name": "stdout",
     "output_type": "stream",
     "text": [
      "Enter the first number: 12\n",
      "Enter the second number: 15\n",
      "The HCF or GCD of 12 and 15 is 3\n"
     ]
    }
   ],
   "source": [
    "def gcd(a, b):\n",
    "    while b:\n",
    "        a, b = b, a % b\n",
    "    return a\n",
    "\n",
    "num1 = int(input(\"Enter the first number: \"))\n",
    "num2 = int(input(\"Enter the second number: \"))\n",
    "gcd = gcd(num1, num2)\n",
    "print(\"The HCF or GCD of\",num1,\"and\",num2, \"is\",gcd)"
   ]
  },
  {
   "cell_type": "markdown",
   "id": "edc59d15",
   "metadata": {},
   "source": [
    "#### 5. Program to find Factors of a number"
   ]
  },
  {
   "cell_type": "code",
   "execution_count": 5,
   "id": "bd02c099",
   "metadata": {},
   "outputs": [
    {
     "name": "stdout",
     "output_type": "stream",
     "text": [
      "Enter a number :15\n",
      "Factors of 15 are [1, 3, 5, 15]\n"
     ]
    }
   ],
   "source": [
    "def factors(n):\n",
    "    fact_list = []\n",
    "    for i in range(1,n+1):\n",
    "        if n%i == 0:\n",
    "            fact_list.append(i)\n",
    "    return fact_list\n",
    "\n",
    "num = int(input(\"Enter a number :\"))\n",
    "print(\"Factors of\",num,\"are\",factors(num))"
   ]
  },
  {
   "cell_type": "markdown",
   "id": "2458ff98",
   "metadata": {},
   "source": [
    "#### 6. Programs to built 5 different pyramids"
   ]
  },
  {
   "cell_type": "markdown",
   "id": "d5de65a3",
   "metadata": {},
   "source": [
    "##### a."
   ]
  },
  {
   "cell_type": "code",
   "execution_count": 6,
   "id": "cf583e37",
   "metadata": {},
   "outputs": [
    {
     "name": "stdout",
     "output_type": "stream",
     "text": [
      "*\n",
      "**\n",
      "***\n",
      "****\n",
      "*****\n"
     ]
    }
   ],
   "source": [
    "n = 5\n",
    "for i in range(1, n + 1):\n",
    "    print(\"*\" * i)"
   ]
  },
  {
   "cell_type": "markdown",
   "id": "bd089cef",
   "metadata": {},
   "source": [
    "##### b."
   ]
  },
  {
   "cell_type": "code",
   "execution_count": 7,
   "id": "7af078da",
   "metadata": {},
   "outputs": [
    {
     "name": "stdout",
     "output_type": "stream",
     "text": [
      "*****\n",
      "*****\n",
      "*****\n",
      "*****\n",
      "*****\n"
     ]
    }
   ],
   "source": [
    "n = 5\n",
    "for i in range(n):\n",
    "    print(\"*\" * n)"
   ]
  },
  {
   "cell_type": "markdown",
   "id": "d8d31064",
   "metadata": {},
   "source": [
    "##### c."
   ]
  },
  {
   "cell_type": "code",
   "execution_count": 8,
   "id": "d774d170",
   "metadata": {},
   "outputs": [
    {
     "name": "stdout",
     "output_type": "stream",
     "text": [
      "*****\n",
      "****\n",
      "***\n",
      "**\n",
      "*\n"
     ]
    }
   ],
   "source": [
    "n = 5\n",
    "for i in range(n, 0, -1):\n",
    "    print(\"*\" * i)"
   ]
  },
  {
   "cell_type": "markdown",
   "id": "f3e1ca51",
   "metadata": {},
   "source": [
    "##### d."
   ]
  },
  {
   "cell_type": "code",
   "execution_count": 9,
   "id": "5eff82d0",
   "metadata": {},
   "outputs": [
    {
     "name": "stdout",
     "output_type": "stream",
     "text": [
      "    *\n",
      "   ***\n",
      "  *****\n",
      " *******\n",
      "*********\n"
     ]
    }
   ],
   "source": [
    "n = 5\n",
    "for i in range(1, n + 1):\n",
    "    spaces = \" \" * (n - i)\n",
    "    stars = \"*\" * (2 * i - 1)\n",
    "    print(spaces + stars)"
   ]
  },
  {
   "cell_type": "markdown",
   "id": "05da0590",
   "metadata": {},
   "source": [
    "##### e."
   ]
  },
  {
   "cell_type": "code",
   "execution_count": 10,
   "id": "bda604a7",
   "metadata": {},
   "outputs": [
    {
     "name": "stdout",
     "output_type": "stream",
     "text": [
      "    *\n",
      "   ***\n",
      "  *****\n",
      " *******\n",
      "*********\n",
      " *******\n",
      "  *****\n",
      "   ***\n",
      "    *\n"
     ]
    }
   ],
   "source": [
    "n = 5\n",
    "for i in range(1, n + 1):\n",
    "    spaces = \" \" * (n - i)\n",
    "    stars = \"*\" * (2 * i - 1)\n",
    "    print(spaces + stars)\n",
    "\n",
    "for i in range(n - 1, 0, -1):\n",
    "    spaces = \" \" * (n - i)\n",
    "    stars = \"*\" * (2 * i - 1)\n",
    "    print(spaces + stars)"
   ]
  },
  {
   "cell_type": "markdown",
   "id": "851bf282",
   "metadata": {},
   "source": [
    "#### 7. Program to  Reverse of a number"
   ]
  },
  {
   "cell_type": "code",
   "execution_count": 11,
   "id": "e0f5f846",
   "metadata": {},
   "outputs": [
    {
     "name": "stdout",
     "output_type": "stream",
     "text": [
      "Enter a number :258\n",
      "852\n"
     ]
    }
   ],
   "source": [
    "n = int(input(\"Enter a number :\"))\n",
    "st = str(n)\n",
    "rev_st = st[::-1]\n",
    "n = int(rev_st)\n",
    "print(n)"
   ]
  },
  {
   "cell_type": "markdown",
   "id": "eb58ef6a",
   "metadata": {},
   "source": [
    "#### 8. Program to find the Power of a number"
   ]
  },
  {
   "cell_type": "code",
   "execution_count": 13,
   "id": "e0dec00b",
   "metadata": {},
   "outputs": [
    {
     "name": "stdout",
     "output_type": "stream",
     "text": [
      "Enter the base :5\n",
      "Enter the exponent:3\n",
      "5.0 raised to the power of 3 is 125.0\n"
     ]
    }
   ],
   "source": [
    "base = float(input(\"Enter the base :\"))\n",
    "exp = int(input(\"Enter the exponent:\"))\n",
    "print(base,\"raised to the power of\",exp,\"is\",base**exp)"
   ]
  }
 ],
 "metadata": {
  "kernelspec": {
   "display_name": "Python 3 (ipykernel)",
   "language": "python",
   "name": "python3"
  },
  "language_info": {
   "codemirror_mode": {
    "name": "ipython",
    "version": 3
   },
   "file_extension": ".py",
   "mimetype": "text/x-python",
   "name": "python",
   "nbconvert_exporter": "python",
   "pygments_lexer": "ipython3",
   "version": "3.11.3"
  }
 },
 "nbformat": 4,
 "nbformat_minor": 5
}
