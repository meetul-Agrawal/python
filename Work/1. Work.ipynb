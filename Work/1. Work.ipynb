{
 "cells": [
  {
   "cell_type": "markdown",
   "id": "ab79de7f",
   "metadata": {},
   "source": [
    "#### 1. Add two numbers with user input"
   ]
  },
  {
   "cell_type": "code",
   "execution_count": 3,
   "id": "2323cb56",
   "metadata": {},
   "outputs": [
    {
     "name": "stdout",
     "output_type": "stream",
     "text": [
      "Enter a :4\n",
      "Enter b :5\n",
      "Add of a and b is 9\n"
     ]
    }
   ],
   "source": [
    "a = int(input(\"Enter a :\"))\n",
    "b = int(input(\"Enter b :\"))\n",
    "\n",
    "c = a + b\n",
    "\n",
    "print(\"Add of a and b is\",c)"
   ]
  }
 ],
 "metadata": {
  "kernelspec": {
   "display_name": "Python 3 (ipykernel)",
   "language": "python",
   "name": "python3"
  },
  "language_info": {
   "codemirror_mode": {
    "name": "ipython",
    "version": 3
   },
   "file_extension": ".py",
   "mimetype": "text/x-python",
   "name": "python",
   "nbconvert_exporter": "python",
   "pygments_lexer": "ipython3",
   "version": "3.11.3"
  }
 },
 "nbformat": 4,
 "nbformat_minor": 5
}
