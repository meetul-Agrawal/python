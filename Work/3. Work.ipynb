{
 "cells": [
  {
   "cell_type": "markdown",
   "id": "d5a41b44",
   "metadata": {},
   "source": [
    "### 1. Program to get the characters from the string"
   ]
  },
  {
   "cell_type": "code",
   "execution_count": 1,
   "id": "a18f8d4b",
   "metadata": {},
   "outputs": [
    {
     "name": "stdout",
     "output_type": "stream",
     "text": [
      "['h', 'e', 'y', ',', ' ', 'M', 'e', 'e', 't', 'u', 'l', ' ', 't', 'h', 'i', 's', ' ', 's', 'i', 'd', 'e']\n"
     ]
    }
   ],
   "source": [
    "string = \"hey, Meetul this side\"\n",
    "print([x for x in string])"
   ]
  },
  {
   "cell_type": "markdown",
   "id": "93d3cee0",
   "metadata": {},
   "source": [
    "### 2. Return the length of string"
   ]
  },
  {
   "cell_type": "code",
   "execution_count": 3,
   "id": "72c25bc5",
   "metadata": {},
   "outputs": [
    {
     "name": "stdout",
     "output_type": "stream",
     "text": [
      "Length of the string is : 21\n"
     ]
    }
   ],
   "source": [
    "string = \"hey, Meetul this side\"\n",
    "print(\"Length of the string is :\",len(string))"
   ]
  },
  {
   "cell_type": "markdown",
   "id": "3d079d5f",
   "metadata": {},
   "source": [
    "### 3. Convert string into uppercase"
   ]
  },
  {
   "cell_type": "code",
   "execution_count": 5,
   "id": "ddc25672",
   "metadata": {},
   "outputs": [
    {
     "name": "stdout",
     "output_type": "stream",
     "text": [
      "Uppercase : HEY, MEETUL THIS SIDE\n"
     ]
    }
   ],
   "source": [
    "string = \"hey, Meetul this side\"\n",
    "print(\"Uppercase :\",string.upper())"
   ]
  },
  {
   "cell_type": "markdown",
   "id": "8b4054d9",
   "metadata": {},
   "source": [
    "### 4. split the string into sub-strings"
   ]
  },
  {
   "cell_type": "code",
   "execution_count": 6,
   "id": "059b79b7",
   "metadata": {},
   "outputs": [
    {
     "name": "stdout",
     "output_type": "stream",
     "text": [
      "Substrings : ['hey,', 'Meetul', 'this', 'side']\n"
     ]
    }
   ],
   "source": [
    "string = \"hey, Meetul this side\"\n",
    "print(\"Substrings :\", string.split())"
   ]
  },
  {
   "cell_type": "markdown",
   "id": "17527079",
   "metadata": {},
   "source": [
    "### 5. Make a simple calculator"
   ]
  },
  {
   "cell_type": "code",
   "execution_count": 7,
   "id": "6bd0aaad",
   "metadata": {},
   "outputs": [
    {
     "name": "stdout",
     "output_type": "stream",
     "text": [
      "Enter number 1: 25\n",
      "Enter number 2: 45\n",
      "Choose any one :\n",
      "1. Addition\n",
      "2. Subtraction\n",
      "3. Multiply\n",
      "4. Division\n",
      "5. Exponential\n",
      "6. Floor Division\n",
      "Enter your choice :1\n",
      "Addiction =  70\n"
     ]
    }
   ],
   "source": [
    "# program to create a calculator using if-elif-else\n",
    "n1 = int(input('Enter number 1: '))\n",
    "n2 = int(input('Enter number 2: '))\n",
    "\n",
    "print('''Choose any one :\n",
    "1. Addition\n",
    "2. Subtraction\n",
    "3. Multiply\n",
    "4. Division\n",
    "5. Exponential\n",
    "6. Floor Division''')\n",
    "\n",
    "n = int(input(\"Enter your choice :\"))\n",
    "\n",
    "if n == 1:\n",
    "    print(\"Addiction = \", n1 + n2)\n",
    "elif n == 2:\n",
    "    print('Subtraction = ', n1 - n2)\n",
    "elif n == 3:\n",
    "    print('Multiply = ', n1 * n2)\n",
    "elif n == 4:\n",
    "    print('Division = ', n1 / n2)\n",
    "elif n == 5:\n",
    "    print('Exponential = ', n1 ** n2)\n",
    "elif n == 6:\n",
    "    print('Floor Division = ', n1 // n2)\n",
    "else:\n",
    "    print(\"You choose WRONG !!!!\")"
   ]
  },
  {
   "cell_type": "markdown",
   "id": "67177398",
   "metadata": {},
   "source": [
    "### 6. Change the value of a list item"
   ]
  },
  {
   "cell_type": "code",
   "execution_count": 8,
   "id": "f73f7b8c",
   "metadata": {},
   "outputs": [
    {
     "data": {
      "text/plain": [
       "[1, 111111, 3, 4]"
      ]
     },
     "execution_count": 8,
     "metadata": {},
     "output_type": "execute_result"
    }
   ],
   "source": [
    "lst = [1,2,3,4]\n",
    "lst[1] = 111111\n",
    "lst"
   ]
  },
  {
   "cell_type": "markdown",
   "id": "ae7a4b15",
   "metadata": {},
   "source": [
    "### 7. Loop through a list"
   ]
  },
  {
   "cell_type": "code",
   "execution_count": 10,
   "id": "a19e4331",
   "metadata": {},
   "outputs": [
    {
     "name": "stdout",
     "output_type": "stream",
     "text": [
      "1 2 3 4 "
     ]
    }
   ],
   "source": [
    "lst = [1,2,3,4]\n",
    "for i in lst:\n",
    "    print(i,end=\" \")"
   ]
  },
  {
   "cell_type": "markdown",
   "id": "4bee6deb",
   "metadata": {},
   "source": [
    "### 8. Length of a list"
   ]
  },
  {
   "cell_type": "code",
   "execution_count": 11,
   "id": "71239e45",
   "metadata": {},
   "outputs": [
    {
     "name": "stdout",
     "output_type": "stream",
     "text": [
      "Length of the list [1, 2, 3, 4] is 4\n"
     ]
    }
   ],
   "source": [
    "lst = [1,2,3,4]\n",
    "print(\"Length of the list\",lst,\"is\",len(lst))"
   ]
  },
  {
   "cell_type": "markdown",
   "id": "bea88986",
   "metadata": {},
   "source": [
    "### 9. Add an item to a particular index"
   ]
  },
  {
   "cell_type": "code",
   "execution_count": 12,
   "id": "a6edec94",
   "metadata": {},
   "outputs": [
    {
     "data": {
      "text/plain": [
       "[1, 2, 125, 3, 4]"
      ]
     },
     "execution_count": 12,
     "metadata": {},
     "output_type": "execute_result"
    }
   ],
   "source": [
    "lst = [1,2,3,4]\n",
    "lst.insert(2,125)\n",
    "lst"
   ]
  },
  {
   "cell_type": "markdown",
   "id": "ab6846a6",
   "metadata": {},
   "source": [
    "### 10. Remove an item from a specified index"
   ]
  },
  {
   "cell_type": "code",
   "execution_count": 14,
   "id": "801cf193",
   "metadata": {},
   "outputs": [
    {
     "data": {
      "text/plain": [
       "[2, 3, 4]"
      ]
     },
     "execution_count": 14,
     "metadata": {},
     "output_type": "execute_result"
    }
   ],
   "source": [
    "lst = [1,2,3,4]\n",
    "lst.pop(0)\n",
    "lst"
   ]
  }
 ],
 "metadata": {
  "kernelspec": {
   "display_name": "Python 3 (ipykernel)",
   "language": "python",
   "name": "python3"
  },
  "language_info": {
   "codemirror_mode": {
    "name": "ipython",
    "version": 3
   },
   "file_extension": ".py",
   "mimetype": "text/x-python",
   "name": "python",
   "nbconvert_exporter": "python",
   "pygments_lexer": "ipython3",
   "version": "3.11.3"
  }
 },
 "nbformat": 4,
 "nbformat_minor": 5
}
