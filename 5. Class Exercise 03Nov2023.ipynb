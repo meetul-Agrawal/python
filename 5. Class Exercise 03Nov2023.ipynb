{
 "cells": [
  {
   "cell_type": "markdown",
   "id": "c4a70f92",
   "metadata": {},
   "source": [
    "### Book Exercise first 3 Chapter 3 Loops"
   ]
  },
  {
   "cell_type": "markdown",
   "id": "2707cd59",
   "metadata": {},
   "source": [
    "1 to 3 meetul\n",
    "next anshul\n",
    "chirag\n",
    "mal\n",
    "dhara\n",
    "joyall"
   ]
  },
  {
   "cell_type": "code",
   "execution_count": 3,
   "id": "6228518c",
   "metadata": {},
   "outputs": [
    {
     "name": "stdout",
     "output_type": "stream",
     "text": [
      "Enter a number :2\n",
      "Enter a number :5\n",
      "Enter a number :4\n",
      "Enter a number :0\n",
      "Average : 3.6666666666666665\n"
     ]
    }
   ],
   "source": [
    "def average(lst):\n",
    "    return sum(lst) / len(lst)\n",
    "\n",
    "lst = []\n",
    "while True:\n",
    "    n = int(input(\"Enter a number :\"))\n",
    "    if n != 0:\n",
    "        lst.append(n)\n",
    "    else:\n",
    "        break\n",
    "print(\"Average :\",average(lst))"
   ]
  },
  {
   "cell_type": "code",
   "execution_count": 9,
   "id": "c7a08224",
   "metadata": {},
   "outputs": [
    {
     "name": "stdout",
     "output_type": "stream",
     "text": [
      "Original Price   Discount Amount   New Price\n",
      "--------------------------------------------\n",
      "$4.95          $2.97         $1.98\n",
      "$9.95          $5.97         $3.98\n",
      "$14.95          $8.97         $5.98\n",
      "$19.95          $11.97         $7.98\n",
      "$24.95          $14.97         $9.98\n"
     ]
    }
   ],
   "source": [
    "original_prices = [4.95, 9.95, 14.95, 19.95, 24.95]\n",
    "print(\"Original Price   Discount Amount   New Price\")\n",
    "print(\"--------------------------------------------\")\n",
    "for price in original_prices:\n",
    "    discount = price * 0.60  # 60% discount\n",
    "    new_price = price - discount\n",
    "    print(f\"${price:.2f}          ${discount:.2f}         ${new_price:.2f}\")\n",
    "    "
   ]
  },
  {
   "cell_type": "code",
   "execution_count": 14,
   "id": "f3bd9ad4",
   "metadata": {},
   "outputs": [
    {
     "name": "stdout",
     "output_type": "stream",
     "text": [
      "Celsius        Fehrenheit\n",
      "0              35.0\n",
      "10              53.0\n",
      "20              71.0\n",
      "30              89.0\n",
      "40              107.0\n",
      "50              125.0\n",
      "60              143.0\n",
      "70              161.0\n",
      "80              179.0\n",
      "90              197.0\n",
      "100              215.0\n"
     ]
    }
   ],
   "source": [
    "print(\"Celsius        Fehrenheit\")\n",
    "\n",
    "for i in range(0,101,10):\n",
    "    print(i,\"            \" ,(i*9/5)+35)"
   ]
  },
  {
   "cell_type": "code",
   "execution_count": 22,
   "id": "a2c62863",
   "metadata": {},
   "outputs": [
    {
     "name": "stdout",
     "output_type": "stream",
     "text": [
      "56 <== update\n",
      "0\n",
      "53\n",
      "18\n",
      "12\n",
      "56 <== update\n",
      "86 <== update\n",
      "61\n",
      "87 <== update\n",
      "93 <== update\n",
      "43\n",
      "14\n",
      "52\n",
      "49\n",
      "97 <== update\n",
      "49\n",
      "8\n",
      "13\n",
      "76\n",
      "99 <== update\n",
      "37\n",
      "7\n",
      "59\n",
      "93\n",
      "97\n",
      "30\n",
      "48\n",
      "73\n",
      "81\n",
      "52\n",
      "61\n",
      "53\n",
      "19\n",
      "20\n",
      "42\n",
      "65\n",
      "94\n",
      "31\n",
      "44\n",
      "17\n",
      "76\n",
      "47\n",
      "76\n",
      "87\n",
      "30\n",
      "40\n",
      "44\n",
      "27\n",
      "59\n",
      "5\n",
      "78\n",
      "12\n",
      "23\n",
      "89\n",
      "73\n",
      "52\n",
      "77\n",
      "36\n",
      "47\n",
      "70\n",
      "62\n",
      "74\n",
      "69\n",
      "0\n",
      "98\n",
      "55\n",
      "35\n",
      "17\n",
      "26\n",
      "50\n",
      "100 <== update\n",
      "52\n",
      "97\n",
      "94\n",
      "96\n",
      "36\n",
      "20\n",
      "38\n",
      "20\n",
      "25\n",
      "38\n",
      "27\n",
      "33\n",
      "30\n",
      "4\n",
      "17\n",
      "12\n",
      "72\n",
      "9\n",
      "18\n",
      "27\n",
      "9\n",
      "65\n",
      "52\n",
      "68\n",
      "54\n",
      "38\n",
      "6\n",
      "30\n",
      "41\n",
      "Max: 100\n",
      "Updated value for 8 times\n"
     ]
    }
   ],
   "source": [
    "import random\n",
    "count = 0\n",
    "maximum = 0\n",
    "random = [random.randint(0,100) for i in range(100)]\n",
    "\n",
    "for j in random:\n",
    "    if j < maximum:\n",
    "        print(j)\n",
    "    else:\n",
    "        maximum = j\n",
    "        count += 1\n",
    "        print(j,\"<== update\")\n",
    "print(\"Max:\",maximum)\n",
    "print(\"Updated value for\",count,\"times\")"
   ]
  },
  {
   "cell_type": "code",
   "execution_count": null,
   "id": "0506d78d",
   "metadata": {},
   "outputs": [],
   "source": []
  }
 ],
 "metadata": {
  "kernelspec": {
   "display_name": "Python 3 (ipykernel)",
   "language": "python",
   "name": "python3"
  },
  "language_info": {
   "codemirror_mode": {
    "name": "ipython",
    "version": 3
   },
   "file_extension": ".py",
   "mimetype": "text/x-python",
   "name": "python",
   "nbconvert_exporter": "python",
   "pygments_lexer": "ipython3",
   "version": "3.11.3"
  }
 },
 "nbformat": 4,
 "nbformat_minor": 5
}
