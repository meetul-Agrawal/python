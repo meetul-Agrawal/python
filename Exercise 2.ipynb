{
 "cells": [
  {
   "cell_type": "markdown",
   "id": "4616595f",
   "metadata": {},
   "source": [
    "#### 1. Return Function"
   ]
  },
  {
   "cell_type": "code",
   "execution_count": 33,
   "id": "5db6be35",
   "metadata": {},
   "outputs": [
    {
     "name": "stdout",
     "output_type": "stream",
     "text": [
      "Enter a number 1:3\n",
      "Enter a number 2:5\n",
      "Max of 3 and 5 is 5\n"
     ]
    }
   ],
   "source": [
    "def maxfunct(a,b):\n",
    "    if a > b:\n",
    "        return a\n",
    "    else:\n",
    "        return b\n",
    "a = int(input(\"Enter a number 1:\"))\n",
    "b = int(input(\"Enter a number 2:\"))\n",
    "if a!=b:\n",
    "    print(\"Max of\",a,\"and\",b,\"is\",maxfunct(a,b))"
   ]
  },
  {
   "cell_type": "markdown",
   "id": "a884f0c8",
   "metadata": {},
   "source": [
    "#### 2. One liner of sum of 2 numbers"
   ]
  },
  {
   "cell_type": "code",
   "execution_count": 11,
   "id": "1647c119",
   "metadata": {},
   "outputs": [
    {
     "name": "stdout",
     "output_type": "stream",
     "text": [
      "Enter km: 32\n",
      "To miles is 19.9\n"
     ]
    }
   ],
   "source": [
    "print('To miles is %.1f' % ((float(input(\"Enter km: \")) * 0.621371)))"
   ]
  },
  {
   "cell_type": "markdown",
   "id": "da94e64e",
   "metadata": {},
   "source": [
    "#### 3. Square root"
   ]
  },
  {
   "cell_type": "code",
   "execution_count": 3,
   "id": "e1382c78",
   "metadata": {
    "scrolled": true
   },
   "outputs": [
    {
     "name": "stdout",
     "output_type": "stream",
     "text": [
      "Enter a number : -16\n",
      "Square root of -16 is : (2.4492935982947064e-16+4j)\n"
     ]
    }
   ],
   "source": [
    "num = int(input(\"Enter a number : \"))\n",
    "sqrt = num**0.5\n",
    "print(\"Square root of\",num,\"is :\",sqrt)"
   ]
  },
  {
   "cell_type": "markdown",
   "id": "5291b4b2",
   "metadata": {},
   "source": [
    "#### 4. Area of Triangle"
   ]
  },
  {
   "cell_type": "code",
   "execution_count": 8,
   "id": "4ddd89ed",
   "metadata": {},
   "outputs": [
    {
     "name": "stdout",
     "output_type": "stream",
     "text": [
      "Enter first side : -5\n",
      "Enter second side : -9\n",
      "Enter third side : 10\n",
      "Area of triangle is : 22.44994432064365\n"
     ]
    }
   ],
   "source": [
    "a = int(input(\"Enter first side : \"))\n",
    "b = int(input(\"Enter second side : \"))\n",
    "c = int(input(\"Enter third side : \"))\n",
    "s = (a+b+c)/2\n",
    "area = (s*(s-a)*(s-b)*(s-c))**0.5\n",
    "print(\"Area of triangle is :\",area)"
   ]
  },
  {
   "cell_type": "markdown",
   "id": "3baedc85",
   "metadata": {},
   "source": [
    "#### 5. Swapping of 2 numbers"
   ]
  },
  {
   "cell_type": "code",
   "execution_count": 12,
   "id": "94a35e90",
   "metadata": {},
   "outputs": [
    {
     "name": "stdout",
     "output_type": "stream",
     "text": [
      "Enter first Number : 6\n",
      "Enter second Number : 9\n",
      "Before swapping a : 6 and b : 9\n",
      "After swapping a : 9 and b : 6\n"
     ]
    }
   ],
   "source": [
    "a = int(input(\"Enter first Number : \"))\n",
    "b = int(input(\"Enter second Number : \"))\n",
    "print(\"Before swapping a :\",a,\"and b :\",b)\n",
    "a,b = b,a\n",
    "print(\"After swapping a :\",a,\"and b :\",b)"
   ]
  },
  {
   "cell_type": "markdown",
   "id": "b3dbb0d9",
   "metadata": {},
   "source": [
    "#### 6. Random Number Generation"
   ]
  },
  {
   "cell_type": "code",
   "execution_count": 13,
   "id": "2cc44583",
   "metadata": {},
   "outputs": [
    {
     "name": "stdout",
     "output_type": "stream",
     "text": [
      "8\n"
     ]
    }
   ],
   "source": [
    "from random import randint\n",
    "print(randint(0,9))"
   ]
  },
  {
   "cell_type": "markdown",
   "id": "78b0d8c5",
   "metadata": {},
   "source": [
    "#### 7. Convert km to miles"
   ]
  },
  {
   "cell_type": "code",
   "execution_count": 14,
   "id": "95d835db",
   "metadata": {},
   "outputs": [
    {
     "name": "stdout",
     "output_type": "stream",
     "text": [
      "Enter kilometer :100\n",
      "100 to miles is : 62.137100000000004\n"
     ]
    }
   ],
   "source": [
    "km = int(input(\"Enter kilometer :\"))\n",
    "print(km,\"to miles is :\",km*0.621371)"
   ]
  },
  {
   "cell_type": "markdown",
   "id": "5bc0d8c6",
   "metadata": {},
   "source": [
    "#### 8. Convert km to miles in one liner"
   ]
  },
  {
   "cell_type": "code",
   "execution_count": 15,
   "id": "52beea60",
   "metadata": {},
   "outputs": [
    {
     "name": "stdout",
     "output_type": "stream",
     "text": [
      "Enter km :100\n",
      "To miles is 62.1\n"
     ]
    }
   ],
   "source": [
    "print(\"To miles is %.1f\"%(int(input(\"Enter km :\"))*0.621371))"
   ]
  },
  {
   "cell_type": "markdown",
   "id": "8fd07c3a",
   "metadata": {},
   "source": [
    "#### 9. Check if number is +tive, -tive or zero."
   ]
  },
  {
   "cell_type": "code",
   "execution_count": 16,
   "id": "f9bac035",
   "metadata": {},
   "outputs": [
    {
     "name": "stdout",
     "output_type": "stream",
     "text": [
      "Enter a number :0\n",
      "0 is zero\n"
     ]
    }
   ],
   "source": [
    "a = int(input(\"Enter a number :\"))\n",
    "\n",
    "if a > 0:\n",
    "    print(a,\"is +tive\")\n",
    "elif a == 0:\n",
    "    print(a,\"is zero\")\n",
    "else:\n",
    "    print(a,\"is -tive\")"
   ]
  },
  {
   "cell_type": "markdown",
   "id": "4f3b597b",
   "metadata": {},
   "source": [
    "#### 10. Check if number is +tive, -tive or 0 with nested-if statements "
   ]
  },
  {
   "cell_type": "code",
   "execution_count": 22,
   "id": "a9c1c711",
   "metadata": {},
   "outputs": [
    {
     "name": "stdout",
     "output_type": "stream",
     "text": [
      "Enter a number :0\n",
      "0 is zero\n"
     ]
    }
   ],
   "source": [
    "a = int(input(\"Enter a number :\"))\n",
    "\n",
    "if a != 0:\n",
    "    if a > 0:\n",
    "        print(a,\"is +tive\")\n",
    "    else:\n",
    "        print(a,\"is -tive\")\n",
    "else:\n",
    "    print(a,\"is zero\")"
   ]
  },
  {
   "cell_type": "markdown",
   "id": "c1e7b40e",
   "metadata": {},
   "source": [
    "#### 11. Odd or even"
   ]
  },
  {
   "cell_type": "code",
   "execution_count": 23,
   "id": "751145d0",
   "metadata": {},
   "outputs": [
    {
     "name": "stdout",
     "output_type": "stream",
     "text": [
      "Enter a number :8\n",
      "Even\n"
     ]
    }
   ],
   "source": [
    "a = int(input(\"Enter a number :\"))\n",
    "if a % 2 == 0:\n",
    "    print(\"Even\")\n",
    "else:\n",
    "    print(\"False\")"
   ]
  },
  {
   "cell_type": "markdown",
   "id": "3639c685",
   "metadata": {},
   "source": [
    "#### 12. Largest of 3 number"
   ]
  },
  {
   "cell_type": "code",
   "execution_count": 26,
   "id": "246e80da",
   "metadata": {},
   "outputs": [
    {
     "name": "stdout",
     "output_type": "stream",
     "text": [
      "Enter a number 1 :9\n",
      "Enter a number 2 :8\n",
      "Enter a number 3 :0\n",
      "9 is largest\n"
     ]
    }
   ],
   "source": [
    "a = int(input(\"Enter a number 1 :\"))\n",
    "b = int(input(\"Enter a number 2 :\"))\n",
    "c = int(input(\"Enter a number 3 :\"))\n",
    "\n",
    "if a > b and a > c:\n",
    "    print(a,\"is largest\")\n",
    "elif b > a and b > c:\n",
    "    print(b,\"is largest\")\n",
    "else:\n",
    "    print(c,\"is largest\")"
   ]
  },
  {
   "cell_type": "markdown",
   "id": "0d16ef64",
   "metadata": {},
   "source": [
    "#### 13. factorial"
   ]
  },
  {
   "cell_type": "code",
   "execution_count": 34,
   "id": "e5c73295",
   "metadata": {},
   "outputs": [
    {
     "name": "stdout",
     "output_type": "stream",
     "text": [
      "Enter number to find factrial of :5\n",
      "Factorial of 5 is : 120\n"
     ]
    }
   ],
   "source": [
    "def fact(a):\n",
    "    f = 1\n",
    "    for i in range(1,a+1):\n",
    "        f = f*i\n",
    "    return f\n",
    "\n",
    "a = int(input(\"Enter number to find factrial of :\"))\n",
    "if a>0:\n",
    "    print(\"Factorial of\",a,\"is :\",fact(a))\n",
    "else:\n",
    "    print(\"NOT POSSIBLE !!!\")"
   ]
  },
  {
   "cell_type": "markdown",
   "id": "a37bc71b",
   "metadata": {},
   "source": [
    "#### 14. Display powers of 2 using anonymous function"
   ]
  },
  {
   "cell_type": "code",
   "execution_count": 57,
   "id": "871da55d",
   "metadata": {},
   "outputs": [
    {
     "name": "stdout",
     "output_type": "stream",
     "text": [
      "Enter number of terms:5\n",
      "Total terms: 5\n",
      "2 is to power 0 is 1\n",
      "2 is to power 1 is 2\n",
      "2 is to power 2 is 4\n",
      "2 is to power 3 is 8\n",
      "2 is to power 4 is 16\n"
     ]
    }
   ],
   "source": [
    "n = int(input(\"Enter number of terms:\"))\n",
    "result = list(map(lambda x: 2**x,range(n)))\n",
    "print(\"Total terms:\",n)\n",
    "for i in range(n):\n",
    "    print(\"2 is to power\",i,\"is\",result[i])"
   ]
  },
  {
   "cell_type": "markdown",
   "id": "2e38f6f9",
   "metadata": {},
   "source": [
    "#### 15. Numbers divisible by other numbers"
   ]
  },
  {
   "cell_type": "code",
   "execution_count": 52,
   "id": "eb65e309",
   "metadata": {},
   "outputs": [
    {
     "name": "stdout",
     "output_type": "stream",
     "text": [
      "Number divisible by 2 is : [12, 34, 556, 78, 34]\n"
     ]
    }
   ],
   "source": [
    "lst = [12,34,556,78,7,34,99]\n",
    "result = list(filter(lambda x :(x%2==0),lst))\n",
    "print(\"Number divisible by 2 is :\",result)"
   ]
  },
  {
   "cell_type": "markdown",
   "id": "75e329c4",
   "metadata": {},
   "source": [
    "#### 16. Convert decimal to other number systems"
   ]
  },
  {
   "cell_type": "code",
   "execution_count": 58,
   "id": "7ba1fa0a",
   "metadata": {},
   "outputs": [
    {
     "name": "stdout",
     "output_type": "stream",
     "text": [
      "Enter a number :69\n",
      "Decimal is : 69\n",
      "0b1000101 in binary\n",
      "0o105 in octal\n",
      "0x45 in hexadecimal\n"
     ]
    }
   ],
   "source": [
    "a = int(input(\"Enter a number :\"))\n",
    "print(\"Decimal is :\",a)\n",
    "print(bin(a),\"in binary\")\n",
    "print(oct(a),\"in octal\")\n",
    "print(hex(a),\"in hexadecimal\")"
   ]
  },
  {
   "cell_type": "markdown",
   "id": "7290db9b",
   "metadata": {},
   "source": [
    "#### 17. Multiplication table"
   ]
  },
  {
   "cell_type": "code",
   "execution_count": 61,
   "id": "890d9c2f",
   "metadata": {},
   "outputs": [
    {
     "name": "stdout",
     "output_type": "stream",
     "text": [
      "Table of :69\n",
      "69 X 1 is 69\n",
      "69 X 2 is 138\n",
      "69 X 3 is 207\n",
      "69 X 4 is 276\n",
      "69 X 5 is 345\n",
      "69 X 6 is 414\n",
      "69 X 7 is 483\n",
      "69 X 8 is 552\n",
      "69 X 9 is 621\n",
      "69 X 10 is 690\n"
     ]
    }
   ],
   "source": [
    "num = int(input(\"Table of :\"))\n",
    "for i in range(1,11):\n",
    "    print(num,\"X\",i,\"is\",num*i)"
   ]
  },
  {
   "cell_type": "markdown",
   "id": "f308f189",
   "metadata": {},
   "source": [
    "#### 18. Display calender"
   ]
  },
  {
   "cell_type": "code",
   "execution_count": 62,
   "id": "79816338",
   "metadata": {},
   "outputs": [
    {
     "name": "stdout",
     "output_type": "stream",
     "text": [
      "Enter Year : 2002\n",
      "Enter Month :11\n",
      "   November 2002\n",
      "Mo Tu We Th Fr Sa Su\n",
      "             1  2  3\n",
      " 4  5  6  7  8  9 10\n",
      "11 12 13 14 15 16 17\n",
      "18 19 20 21 22 23 24\n",
      "25 26 27 28 29 30\n",
      "\n"
     ]
    }
   ],
   "source": [
    "import calendar\n",
    "y = int(input(\"Enter Year : \"))\n",
    "m = int(input(\"Enter Month :\"))\n",
    "print(calendar.month(y,m))"
   ]
  },
  {
   "cell_type": "markdown",
   "id": "978c17bb",
   "metadata": {},
   "source": [
    "#### 19. Palindrome or not"
   ]
  },
  {
   "cell_type": "code",
   "execution_count": 66,
   "id": "d011233d",
   "metadata": {},
   "outputs": [
    {
     "name": "stdout",
     "output_type": "stream",
     "text": [
      "Enter any string :DHeeraj\n",
      "dheeraj is not palindrome\n"
     ]
    }
   ],
   "source": [
    "string = input('Enter any string :')\n",
    "string = string.lower()\n",
    "if string == string[::-1]:\n",
    "    print(string,\"is palindrome\")\n",
    "else:\n",
    "    print(string,\"is not palindrome\")"
   ]
  },
  {
   "cell_type": "markdown",
   "id": "65ff8a74",
   "metadata": {},
   "source": [
    "#### 20. Punctuation Removal"
   ]
  },
  {
   "cell_type": "code",
   "execution_count": 68,
   "id": "558d88d2",
   "metadata": {},
   "outputs": [
    {
     "name": "stdout",
     "output_type": "stream",
     "text": [
      "Hello World This is an example string with some punctuation\n"
     ]
    }
   ],
   "source": [
    "def remove_punctuation(input_string):\n",
    "    punctuation_chars = \"!\\\"#$%&'()*+,-./:;<=>?@[\\\\]^_`{|}~\"\n",
    "    cleaned_string = \"\"\n",
    "    for char in input_string:\n",
    "        if char not in punctuation_chars:\n",
    "            cleaned_string += char\n",
    "\n",
    "    return cleaned_string\n",
    "\n",
    "input_string = \"Hello, World! This is an example string with some punctuation.\"\n",
    "cleaned_string = remove_punctuation(input_string)\n",
    "print(cleaned_string)\n"
   ]
  }
 ],
 "metadata": {
  "kernelspec": {
   "display_name": "Python 3 (ipykernel)",
   "language": "python",
   "name": "python3"
  },
  "language_info": {
   "codemirror_mode": {
    "name": "ipython",
    "version": 3
   },
   "file_extension": ".py",
   "mimetype": "text/x-python",
   "name": "python",
   "nbconvert_exporter": "python",
   "pygments_lexer": "ipython3",
   "version": "3.11.3"
  }
 },
 "nbformat": 4,
 "nbformat_minor": 5
}
