{
 "cells": [
  {
   "cell_type": "markdown",
   "id": "22ae12db",
   "metadata": {},
   "source": [
    "#### 1. High Level Function"
   ]
  },
  {
   "cell_type": "code",
   "execution_count": 2,
   "id": "5dc6a788",
   "metadata": {},
   "outputs": [
    {
     "name": "stdout",
     "output_type": "stream",
     "text": [
      "Addition : 12\n",
      "Miltiply : 32\n",
      "High level function : 13\n"
     ]
    }
   ],
   "source": [
    "def add(x):\n",
    "    return x + 1\n",
    "\n",
    "def mul(x):\n",
    "    return x*2\n",
    "\n",
    "def apply(func,x):\n",
    "    return func(x)\n",
    "\n",
    "print(\"Addition :\",add(11))\n",
    "print(\"Miltiply :\",mul(16))\n",
    "print(\"High level function :\",apply(add,12))"
   ]
  },
  {
   "cell_type": "markdown",
   "id": "e917ff72",
   "metadata": {},
   "source": [
    "#### 2. Lambda Function"
   ]
  },
  {
   "cell_type": "code",
   "execution_count": 7,
   "id": "07110c31",
   "metadata": {},
   "outputs": [
    {
     "name": "stdout",
     "output_type": "stream",
     "text": [
      "4761\n"
     ]
    }
   ],
   "source": [
    "square = lambda x: x**2\n",
    "print(square(69))"
   ]
  },
  {
   "cell_type": "markdown",
   "id": "a581aec5",
   "metadata": {},
   "source": [
    "#### 3. Map, filter and reduce"
   ]
  },
  {
   "cell_type": "code",
   "execution_count": 8,
   "id": "f2ec1014",
   "metadata": {
    "scrolled": true
   },
   "outputs": [
    {
     "name": "stdout",
     "output_type": "stream",
     "text": [
      "Original Words: ['apple', 'banana', 'cherry', 'date', 'elderberry']\n",
      "Capitalized Words: ['Apple', 'Banana', 'Cherry', 'Date', 'Elderberry']\n",
      "Words Starting with 'b': ['banana']\n",
      "Concatenated Words: apple banana cherry date elderberry\n"
     ]
    }
   ],
   "source": [
    "from functools import reduce\n",
    "words = [\"apple\", \"banana\", \"cherry\", \"date\", \"elderberry\"]\n",
    "capitalized_words = list(map(lambda x: x.capitalize(), words))\n",
    "b_words = list(filter(lambda x: x.startswith(\"b\"), words))\n",
    "concatenated_words = reduce(lambda x, y: x + \" \" + y, words)\n",
    "print(\"Original Words:\", words)\n",
    "print(\"Capitalized Words:\", capitalized_words)\n",
    "print(\"Words Starting with 'b':\", b_words)\n",
    "print(\"Concatenated Words:\", concatenated_words)"
   ]
  },
  {
   "cell_type": "markdown",
   "id": "91e9e4ca",
   "metadata": {},
   "source": [
    "#### 4. List comphrehension"
   ]
  },
  {
   "cell_type": "code",
   "execution_count": 6,
   "id": "ebab0155",
   "metadata": {},
   "outputs": [
    {
     "name": "stdout",
     "output_type": "stream",
     "text": [
      "Double list : [24, 44, 68, 8, 10]\n",
      "All the even numbers are : [2, 4, 6, 8, 10]\n",
      "[120]\n"
     ]
    }
   ],
   "source": [
    "my_list = [12, 22, 34, 4, 5]\n",
    "result = [x * 2 for x in my_list]\n",
    "print(\"Double list :\",result)\n",
    "\n",
    "my_list = [1, 2, 3, 4, 5, 6, 7, 8, 9, 10]\n",
    "even_numbers = [x for x in my_list if x % 2 == 0]\n",
    "print(\"All the even numbers are :\",even_numbers)\n",
    "\n",
    "from functools import reduce\n",
    "data = [1, 2, 3, 4, 5]\n",
    "product = [reduce(lambda x, y: x * y, data)]\n",
    "print(product)"
   ]
  },
  {
   "cell_type": "markdown",
   "id": "305f81e1",
   "metadata": {},
   "source": [
    "#### 5. Map"
   ]
  },
  {
   "cell_type": "code",
   "execution_count": 9,
   "id": "e81c51e9",
   "metadata": {},
   "outputs": [
    {
     "name": "stdout",
     "output_type": "stream",
     "text": [
      "[2, 4, 6, 8, 10]\n",
      "[1, 4, 9, 16, 25]\n",
      "['APPLE', 'BANANA', 'CHERRY']\n",
      "['a', 'b', 'c']\n",
      "['Mr. Alice', 'Mr. Bob', 'Mr. Charlie']\n",
      "[5, 6, 6]\n",
      "[1, 2, 3, 4, 5]\n",
      "[0.0, 20.0, 30.0, 40.0]\n",
      "['Hello,', 'World', '']\n",
      "['111', '1010', '1111']\n",
      "[3, 6, 9]\n",
      "['world Hello', 'morning Good', 'great is Python']\n",
      "[1, 2, 6, 24, 120]\n",
      "[1.0, 2.0, 3.0, 4.0, 5.0]\n",
      "['example.com', 'company.org', 'domain.net']\n"
     ]
    }
   ],
   "source": [
    "# finding the doubled number\n",
    "numbers = [1, 2, 3, 4, 5]\n",
    "doubled_numbers = list(map(lambda x: x * 2, numbers))\n",
    "print(doubled_numbers)\n",
    "\n",
    "# finding square roots\n",
    "numbers = [1, 2, 3, 4, 5]\n",
    "squared_numbers = list(map(lambda x: x ** 2, numbers))\n",
    "print(squared_numbers)\n",
    "\n",
    "# converting into uppercase\n",
    "words = [\"apple\", \"banana\", \"cherry\"]\n",
    "uppercase_words = list(map(lambda x: x.upper(), words))\n",
    "print(uppercase_words)\n",
    "\n",
    "# finding the first letter from a word\n",
    "words = [\"apple\", \"banana\", \"cherry\"]\n",
    "first_letters = list(map(lambda x: x[0], words))\n",
    "print(first_letters)\n",
    "\n",
    "# adding prefix to the names in the list\n",
    "names = [\"Alice\", \"Bob\", \"Charlie\"]\n",
    "prefixed_names = list(map(lambda x: \"Mr. \" + x, names))\n",
    "print(prefixed_names)\n",
    "\n",
    "# finding length of words in a list\n",
    "words = [\"apple\", \"banana\", \"cherry\"]\n",
    "word_lengths = list(map(len, words))\n",
    "print(word_lengths)\n",
    "\n",
    "# finding absolute values\n",
    "numbers = [-1, -2, 3, -4, 5]\n",
    "absolute_values = list(map(abs, numbers))\n",
    "print(absolute_values)\n",
    "\n",
    "# converting fehrenheit to celsius \n",
    "fahrenheit_temperatures = [32, 68, 86, 104]\n",
    "celsius_temperatures = list(map(lambda f: (f - 32) * 5/9, fahrenheit_temperatures))\n",
    "print(celsius_temperatures)\n",
    "\n",
    "# stripping a sentence\n",
    "sentences = [\"  Hello,  \", \"  World  \", \"   \"]\n",
    "stripped_sentences = list(map(lambda x: x.strip(), sentences))\n",
    "print(stripped_sentences)\n",
    "\n",
    "# convert a decimal to binary\n",
    "numbers = [7, 10, 15]\n",
    "binary_numbers = list(map(lambda x: bin(x)[2:], numbers))\n",
    "print(binary_numbers)\n",
    "\n",
    "# to find last element of a list\n",
    "nested_lists = [[1, 2, 3], [4, 5, 6], [7, 8, 9]]\n",
    "last_elements = list(map(lambda x: x[-1], nested_lists))\n",
    "print(last_elements)\n",
    "\n",
    "# reversing a phrase\n",
    "phrases = [\"Hello world\", \"Good morning\", \"Python is great\"]\n",
    "reversed_phrases = list(map(lambda x: ' '.join(x.split()[::-1]), phrases))\n",
    "print(reversed_phrases)\n",
    "\n",
    "# finding factorial\n",
    "import math\n",
    "numbers = [1, 2, 3, 4, 5]\n",
    "factorials = list(map(lambda x: math.factorial(x), numbers))\n",
    "print(factorials)\n",
    "\n",
    "# finding square roots\n",
    "numbers = [1, 4, 9, 16, 25]\n",
    "square_roots = list(map(math.sqrt, numbers))\n",
    "print(square_roots)\n",
    "\n",
    "# extract domain name from list of emails\n",
    "emails = [\"user@example.com\", \"admin@company.org\", \"test@domain.net\"]\n",
    "domains = list(map(lambda x: x.split('@')[1], emails))\n",
    "print(domains)"
   ]
  },
  {
   "cell_type": "markdown",
   "id": "d8336481",
   "metadata": {},
   "source": [
    "#### 6. Filter"
   ]
  },
  {
   "cell_type": "code",
   "execution_count": 11,
   "id": "3a76423c",
   "metadata": {
    "scrolled": true
   },
   "outputs": [
    {
     "name": "stdout",
     "output_type": "stream",
     "text": [
      "[2, 4, 6]\n",
      "['apple', 'banana', 'date']\n",
      "[3, 7, 10]\n",
      "[2, 3, 5, 7]\n",
      "['Charlie']\n",
      "['alice@example.com', 'charlie@gmail.com', 'david@example.com']\n",
      "['banana', 'cherry', 'date', 'elderberry']\n",
      "['cherry', 'elderberry']\n",
      "[3, 5, 6, 9, 10]\n",
      "['apple', 'elderberry']\n",
      "[{'name': 'Alice', 'score': 95}, {'name': 'Charlie', 'score': 92}]\n",
      "[{'title': 'Book 2', 'year': 2005}, {'title': 'Book 3', 'year': 2010}]\n",
      "[1, 2, 3, 4, 5]\n",
      "['data.txt', 'notes.txt']\n",
      "['apple', 'cherry', 'elderberry']\n"
     ]
    }
   ],
   "source": [
    "# to find the even numbers\n",
    "numbers = [1, 2, 3, 4, 5, 6]\n",
    "even_numbers = list(filter(lambda x: x % 2 == 0, numbers))\n",
    "print(even_numbers)\n",
    "\n",
    "# to find the words with 'a' in it\n",
    "words = [\"apple\", \"banana\", \"cherry\", \"date\", \"elderberry\"]\n",
    "a_words = list(filter(lambda word: 'a' in word, words))\n",
    "print(a_words)\n",
    "\n",
    "# finding out all the postive numbers from a list\n",
    "numbers = [-2, 3, -5, 7, 0, 10, -12]\n",
    "positive_numbers = list(filter(lambda x: x > 0, numbers))\n",
    "print(positive_numbers)\n",
    "\n",
    "# finding out all the prime numbers from a list\n",
    "def is_prime(n):\n",
    "    if n <= 1:\n",
    "        return False\n",
    "    for i in range(2, int(n ** 0.5) + 1):\n",
    "        if n % i == 0:\n",
    "            return False\n",
    "    return True\n",
    "numbers = [2, 3, 4, 5, 6, 7, 8, 9, 10]\n",
    "prime_numbers = list(filter(is_prime, numbers))\n",
    "print(prime_numbers)\n",
    "\n",
    "# finding out all the names which are bigger than 5 letters\n",
    "names = [\"Alice\", \"Bob\", \"Charlie\", \"David\", \"Eve\"]\n",
    "long_names = list(filter(lambda name: len(name) > 5, names))\n",
    "print(long_names)\n",
    "\n",
    "# to find out all the mails with .com extension\n",
    "emails = [\"alice@example.com\", \"bob@example.org\", \"charlie@gmail.com\", \"david@example.com\"]\n",
    "com_emails = list(filter(lambda email: email.endswith(\".com\"), emails))\n",
    "print(com_emails)\n",
    "\n",
    "# to find out all the fruits whose word length is even in numbers\n",
    "words = [\"apple\", \"banana\", \"cherry\", \"date\", \"elderberry\"]\n",
    "even_length_words = list(filter(lambda word: len(word) % 2 == 0, words))\n",
    "print(even_length_words)\n",
    "\n",
    "# to filter out those fruits, whose length is bigger than 5 and have letter 'e' in them\n",
    "words = [\"apple\", \"banana\", \"cherry\", \"date\", \"elderberry\"]\n",
    "selected_words = list(filter(lambda word: len(word) > 5 and 'e' in word, words))\n",
    "print(selected_words)\n",
    "\n",
    "# filter out the numbers, which are either divisble by 3 or 5\n",
    "numbers = [1, 2, 3, 4, 5, 6, 7, 8, 9, 10]\n",
    "filtered_numbers = list(filter(lambda x: x % 3 == 0 or x % 5 == 0, numbers))\n",
    "print(filtered_numbers)\n",
    "\n",
    "# filter out the words which are started with vowel\n",
    "words = [\"apple\", \"banana\", \"cherry\", \"date\", \"elderberry\"]\n",
    "vowel_starting_words = list(filter(lambda word: word[0].lower() in ['a', 'e', 'i', 'o', 'u'], words))\n",
    "print(vowel_starting_words)\n",
    "\n",
    "# filter out the students, whho have more marks than 90\n",
    "students = [\n",
    "    {\"name\": \"Alice\", \"score\": 95},\n",
    "    {\"name\": \"Bob\", \"score\": 88},\n",
    "    {\"name\": \"Charlie\", \"score\": 92},\n",
    "    {\"name\": \"David\", \"score\": 78},\n",
    "]\n",
    "high_scorers = list(filter(lambda student: student[\"score\"] > 90, students))\n",
    "print(high_scorers)\n",
    "\n",
    "# filter out the books which are published post 2000\n",
    "books = [\n",
    "    {\"title\": \"Book 1\", \"year\": 1998},\n",
    "    {\"title\": \"Book 2\", \"year\": 2005},\n",
    "    {\"title\": \"Book 3\", \"year\": 2010},\n",
    "    {\"title\": \"Book 4\", \"year\": 1995},\n",
    "]\n",
    "recent_books = list(filter(lambda book: book[\"year\"] > 2000, books))\n",
    "print(recent_books)\n",
    "\n",
    "# filter out all the unique numbers from a list\n",
    "numbers = [1, 2, 2, 3, 4, 4, 5, 5]\n",
    "unique_numbers = list(set(numbers))\n",
    "print(unique_numbers)\n",
    "\n",
    "# filter out all the files which are in text form\n",
    "file_names = [\"document.docx\", \"image.png\", \"report.pdf\", \"data.txt\", \"notes.txt\"]\n",
    "text_files = list(filter(lambda file: file.endswith(\".txt\"), file_names))\n",
    "print(text_files)\n",
    "\n",
    "# filter out the words which are in lowercase\n",
    "words = [\"apple\", \"Banana\", \"cherry\", \"Date\", \"elderberry\"]\n",
    "lowercase_words = list(filter(lambda word: word.islower(), words))\n",
    "print(lowercase_words)"
   ]
  },
  {
   "cell_type": "markdown",
   "id": "a15d1408",
   "metadata": {},
   "source": [
    "#### 7. Reduce"
   ]
  },
  {
   "cell_type": "code",
   "execution_count": 12,
   "id": "6a41d336",
   "metadata": {},
   "outputs": [
    {
     "name": "stdout",
     "output_type": "stream",
     "text": [
      "Sum of all the numbers from the list is : 31\n"
     ]
    }
   ],
   "source": [
    "from functools import reduce\n",
    "\n",
    "def add(a,b):\n",
    "    return a + b\n",
    "lst = [2,8,6,4,9,2]\n",
    "print(\"Sum of all the numbers from the list is :\",reduce(add,lst))"
   ]
  },
  {
   "cell_type": "markdown",
   "id": "e41bc7a5",
   "metadata": {},
   "source": [
    "#### 8. Finding the largest of the given number"
   ]
  },
  {
   "cell_type": "code",
   "execution_count": 14,
   "id": "59c78216",
   "metadata": {},
   "outputs": [
    {
     "name": "stdout",
     "output_type": "stream",
     "text": [
      "Largest number of the list using reduce is : 9\n",
      "Largest number of the list using lambda is : 9\n"
     ]
    }
   ],
   "source": [
    "from functools import reduce\n",
    "lst = [2,8,6,4,9,2]\n",
    "def large(x,y):\n",
    "    return x if x > y else y\n",
    "print(\"Largest number of the list using reduce is :\", reduce(large,lst))\n",
    "\n",
    "print(\"Largest number of the list using lambda is :\", reduce(lambda x,y: x if x > y else y, lst))"
   ]
  },
  {
   "cell_type": "markdown",
   "id": "83f30496",
   "metadata": {},
   "source": [
    "#### 9. pass statement"
   ]
  },
  {
   "cell_type": "code",
   "execution_count": 16,
   "id": "7fd04dcb",
   "metadata": {},
   "outputs": [
    {
     "name": "stdout",
     "output_type": "stream",
     "text": [
      "No pass keyword reached yet 2\n",
      "No pass keyword reached yet 8\n",
      "No pass keyword reached yet 6\n",
      "No pass keyword reached yet 4\n",
      "No pass keyword reached yet 2\n"
     ]
    }
   ],
   "source": [
    "lst = [2,8,6,4,9,2]\n",
    "for i in lst:\n",
    "    if i == 9:\n",
    "        pass\n",
    "    else:\n",
    "        print(\"No pass keyword reached yet\",i)"
   ]
  },
  {
   "cell_type": "markdown",
   "id": "2fc07001",
   "metadata": {},
   "source": [
    "#### 10. tuples"
   ]
  },
  {
   "cell_type": "code",
   "execution_count": 18,
   "id": "cf803015",
   "metadata": {},
   "outputs": [
    {
     "name": "stdout",
     "output_type": "stream",
     "text": [
      "Empty tuple : ()\n",
      "Tuple with integer : (1, 2, 3, 4)\n",
      "Tuple with mixed datatypes : (1, 2, 6.7, 'Meetul')\n",
      "Nested tuple : ('Meetul', (1, 2, 3, 4), (9, 78))\n"
     ]
    }
   ],
   "source": [
    "emp_tup = ()\n",
    "print(\"Empty tuple :\",emp_tup)\n",
    "\n",
    "int_tup = (1,2,3,4)\n",
    "print(\"Tuple with integer :\", int_tup)\n",
    "\n",
    "mix_tup = (1,2,6.7,\"Meetul\")\n",
    "print(\"Tuple with mixed datatypes :\", mix_tup)\n",
    "\n",
    "nest_tup = (\"Meetul\", (1,2,3,4),(9,78))\n",
    "print(\"Nested tuple :\", nest_tup)"
   ]
  },
  {
   "cell_type": "markdown",
   "id": "35d8b8ae",
   "metadata": {},
   "source": [
    "#### 11. Access elements in a tuple and error handling"
   ]
  },
  {
   "cell_type": "code",
   "execution_count": 3,
   "id": "8b800156",
   "metadata": {},
   "outputs": [
    {
     "name": "stdout",
     "output_type": "stream",
     "text": [
      "shraddha\n",
      "manish\n",
      "tuple index out of range\n"
     ]
    }
   ],
   "source": [
    "tup = (\"meetul\", \"shraddha\", \"manish\")\n",
    "print(tup[1])\n",
    "print(tup[2])\n",
    "\n",
    "try:\n",
    "    print(tup[5])\n",
    "except Exception as e:\n",
    "    print(e)"
   ]
  },
  {
   "cell_type": "markdown",
   "id": "3080203a",
   "metadata": {},
   "source": [
    "#### 12. access tuple using float slicing and in nested tuple"
   ]
  },
  {
   "cell_type": "code",
   "execution_count": 4,
   "id": "8fe2c712",
   "metadata": {},
   "outputs": [
    {
     "name": "stdout",
     "output_type": "stream",
     "text": [
      "tuple indices must be integers or slices, not float\n",
      "e\n",
      "3\n"
     ]
    }
   ],
   "source": [
    "tup = (\"meetul\", \"shraddha\", \"manish\")\n",
    "try:\n",
    "    print(tup[1.0])\n",
    "except Exception as e:\n",
    "    print(e)\n",
    "    \n",
    "nest_tup = (\"Meetul\", [2, 6, 8, 7], (7, 3, 4))\n",
    "print(nest_tup[0][2])\n",
    "print(nest_tup[2][1])"
   ]
  },
  {
   "cell_type": "markdown",
   "id": "3f559d6d",
   "metadata": {},
   "source": [
    "#### 13. negative indexing in tuple"
   ]
  },
  {
   "cell_type": "code",
   "execution_count": 5,
   "id": "b93d8ca8",
   "metadata": {},
   "outputs": [
    {
     "name": "stdout",
     "output_type": "stream",
     "text": [
      "shraddha\n",
      "('meetul', 'shraddha')\n"
     ]
    }
   ],
   "source": [
    "tup = (\"meetul\", \"shraddha\", \"manish\")\n",
    "print(tup[-2])\n",
    "print(tup[-5:-1])"
   ]
  },
  {
   "cell_type": "markdown",
   "id": "6fdaafcc",
   "metadata": {},
   "source": [
    "#### 14. Slicing in tuple"
   ]
  },
  {
   "cell_type": "code",
   "execution_count": 21,
   "id": "64ed1641",
   "metadata": {},
   "outputs": [
    {
     "name": "stdout",
     "output_type": "stream",
     "text": [
      "('meetul', 'shraddha')\n",
      "('meetul',)\n",
      "('meetul', 'shraddha', 'manish')\n"
     ]
    }
   ],
   "source": [
    "tup = (\"meetul\", \"shraddha\", \"manish\")\n",
    "print(tup[0:2])\n",
    "print(tup[:-2])\n",
    "print(tup[:])"
   ]
  },
  {
   "cell_type": "markdown",
   "id": "84813a32",
   "metadata": {},
   "source": [
    "#### 15. del element and tuple in tuple using index and value using error handling and than accessing the deleted tuple "
   ]
  },
  {
   "cell_type": "code",
   "execution_count": 23,
   "id": "99a0e6e9",
   "metadata": {},
   "outputs": [
    {
     "name": "stdout",
     "output_type": "stream",
     "text": [
      "'tuple' object doesn't support item deletion\n",
      "name 'tup' is not defined\n"
     ]
    }
   ],
   "source": [
    "tup = (\"meetul\", \"shraddha\", \"manish\")\n",
    "try:\n",
    "    del tup[2]\n",
    "    print(tup)\n",
    "except Exception as e:\n",
    "    print(e)\n",
    "    \n",
    "del tup\n",
    "try:\n",
    "    print(tup)\n",
    "except Exception as e:\n",
    "    print(e)"
   ]
  },
  {
   "cell_type": "markdown",
   "id": "b5be2276",
   "metadata": {},
   "source": [
    "#### 16. repeated tuple = tuple * 3"
   ]
  },
  {
   "cell_type": "code",
   "execution_count": 24,
   "id": "124c58ad",
   "metadata": {},
   "outputs": [
    {
     "name": "stdout",
     "output_type": "stream",
     "text": [
      "Original tuple : ('meetul', 'shraddha', 'manish')\n",
      "New tuple : ('meetul', 'shraddha', 'manish', 'meetul', 'shraddha', 'manish', 'meetul', 'shraddha', 'manish')\n"
     ]
    }
   ],
   "source": [
    "tup = (\"meetul\", \"shraddha\", \"manish\")\n",
    "print(\"Original tuple :\",tup)\n",
    "print(\"New tuple :\", tup * 3)"
   ]
  },
  {
   "cell_type": "markdown",
   "id": "18b5d52a",
   "metadata": {},
   "source": [
    "#### 17. creating tuple and count appearance of an element"
   ]
  },
  {
   "cell_type": "code",
   "execution_count": 25,
   "id": "b42fda9a",
   "metadata": {},
   "outputs": [
    {
     "name": "stdout",
     "output_type": "stream",
     "text": [
      "Count of 1 in t1 is : 3\n",
      "Count of meetul in t2 is : 1\n"
     ]
    }
   ],
   "source": [
    "t1 = (1,2,3,4,1,1,5,6,7,8,9)\n",
    "t2 = (\"meetul\", \"yash\", \"harshal\")\n",
    "\n",
    "print(\"Count of 1 in t1 is :\", t1.count(1))\n",
    "print(\"Count of meetul in t2 is :\",t2.count(\"meetul\"))"
   ]
  },
  {
   "cell_type": "markdown",
   "id": "b84b0c12",
   "metadata": {},
   "source": [
    "#### 18. find index of an element and index of 3 after 4"
   ]
  },
  {
   "cell_type": "code",
   "execution_count": 26,
   "id": "5da9aaa2",
   "metadata": {},
   "outputs": [
    {
     "name": "stdout",
     "output_type": "stream",
     "text": [
      "First occurence of 2 is at: 1\n",
      "First occurence of 1 after 3rd index is 4\n"
     ]
    }
   ],
   "source": [
    "t1 = (1,2,3,4,1,1,5,6,7,8,9)\n",
    "print(\"First occurence of 2 is at:\",t1.index(2))\n",
    "print(\"First occurence of 1 after 3rd index is\", t1.index(1,3))"
   ]
  },
  {
   "cell_type": "markdown",
   "id": "be022e99",
   "metadata": {},
   "source": [
    "#### 19. in, not in operator in tuple"
   ]
  },
  {
   "cell_type": "code",
   "execution_count": 27,
   "id": "8ba3330e",
   "metadata": {},
   "outputs": [
    {
     "name": "stdout",
     "output_type": "stream",
     "text": [
      "True\n",
      "False\n",
      "True\n"
     ]
    }
   ],
   "source": [
    "t2 = (\"meetul\", \"yash\", \"harshal\")\n",
    "\n",
    "print(\"meetul\" in t2)\n",
    "print(\"jalay\" in t2)\n",
    "\n",
    "print(\"joyaal\" not in t2)"
   ]
  },
  {
   "cell_type": "markdown",
   "id": "8f76f2d5",
   "metadata": {},
   "source": [
    "#### 20. loop iteration in tuple"
   ]
  },
  {
   "cell_type": "code",
   "execution_count": 29,
   "id": "87216eaf",
   "metadata": {},
   "outputs": [
    {
     "name": "stdout",
     "output_type": "stream",
     "text": [
      "meetul yash harshal "
     ]
    }
   ],
   "source": [
    "t2 = (\"meetul\", \"yash\", \"harshal\")\n",
    "\n",
    "for i in t2:\n",
    "    print(i, end = \" \")"
   ]
  },
  {
   "cell_type": "markdown",
   "id": "9b998226",
   "metadata": {},
   "source": [
    "#### 21. concate two tuples "
   ]
  },
  {
   "cell_type": "code",
   "execution_count": 30,
   "id": "a8311c50",
   "metadata": {},
   "outputs": [
    {
     "name": "stdout",
     "output_type": "stream",
     "text": [
      "('meetul', 'yash', 'harshal', 1, 23, 34)\n"
     ]
    }
   ],
   "source": [
    "t2 = (\"meetul\", \"yash\", \"harshal\")\n",
    "print(t2 + (1,23,34))"
   ]
  },
  {
   "cell_type": "markdown",
   "id": "9aebcb0b",
   "metadata": {},
   "source": [
    "#### 22. set creation and finding its datatype"
   ]
  },
  {
   "cell_type": "code",
   "execution_count": 34,
   "id": "2e0acb30",
   "metadata": {},
   "outputs": [
    {
     "name": "stdout",
     "output_type": "stream",
     "text": [
      "{1, 2, 3, 4}\n",
      "<class 'set'>\n",
      "1 2 3 4 \n",
      "<class 'dict'>\n",
      "<class 'set'>\n"
     ]
    }
   ],
   "source": [
    "se1 = set([1,2,3,4,1,2,3])\n",
    "print(se1)\n",
    "print(type(se1))\n",
    "for i in se1:\n",
    "    print(i,end = \" \")\n",
    "print()\n",
    "se2 = {}\n",
    "print(type(se2))\n",
    "se3 = set()\n",
    "print(type(se3))"
   ]
  },
  {
   "cell_type": "markdown",
   "id": "72ac7acb",
   "metadata": {},
   "source": [
    "#### 23. to add new element in set "
   ]
  },
  {
   "cell_type": "code",
   "execution_count": 37,
   "id": "d079de1d",
   "metadata": {},
   "outputs": [
    {
     "name": "stdout",
     "output_type": "stream",
     "text": [
      "Original set is : {1, 2, 3, 4}\n",
      "Modified set is : {1, 2, 3, 4, 6, 7}\n"
     ]
    }
   ],
   "source": [
    "se1 = set([1,2,3,4,1,2,3])\n",
    "print(\"Original set is :\", se1)\n",
    "se1.add(6)\n",
    "se1.add(7)\n",
    "print(\"Modified set is :\",se1)"
   ]
  },
  {
   "cell_type": "markdown",
   "id": "e19f4511",
   "metadata": {},
   "source": [
    "#### 24. updating set"
   ]
  },
  {
   "cell_type": "code",
   "execution_count": null,
   "id": "668d0479",
   "metadata": {},
   "outputs": [],
   "source": [
    "se1 = set([1,2,3,4,1,2,3])\n",
    "print(\"Original set is :\", se1)\n",
    "se1.update([0,9,8,8,9,4])\n",
    "print(\"Updating the OG set :\",se1)"
   ]
  },
  {
   "cell_type": "markdown",
   "id": "b6a98423",
   "metadata": {},
   "source": [
    "#### 25. discarding the tuple (one element at a time)"
   ]
  },
  {
   "cell_type": "code",
   "execution_count": 38,
   "id": "183628d0",
   "metadata": {},
   "outputs": [
    {
     "data": {
      "text/plain": [
       "{1, 3, 4}"
      ]
     },
     "execution_count": 38,
     "metadata": {},
     "output_type": "execute_result"
    }
   ],
   "source": [
    "se1 = set([1,2,3,4,1,2,3])\n",
    "se1.discard(2)\n",
    "se1"
   ]
  },
  {
   "cell_type": "markdown",
   "id": "7b5d0912",
   "metadata": {},
   "source": [
    "#### 26. removing multiple elements from a tuple"
   ]
  },
  {
   "cell_type": "code",
   "execution_count": 41,
   "id": "eb3744a7",
   "metadata": {},
   "outputs": [
    {
     "data": {
      "text/plain": [
       "{1, 3, 4}"
      ]
     },
     "execution_count": 41,
     "metadata": {},
     "output_type": "execute_result"
    }
   ],
   "source": [
    "se1 = set([1,2,3,4,1,2,3])\n",
    "se1.remove(2)\n",
    "se1"
   ]
  },
  {
   "cell_type": "markdown",
   "id": "26833972",
   "metadata": {},
   "source": [
    "#### 27. pop() to removes last element"
   ]
  },
  {
   "cell_type": "code",
   "execution_count": 43,
   "id": "3e80d17e",
   "metadata": {},
   "outputs": [
    {
     "name": "stdout",
     "output_type": "stream",
     "text": [
      "{1, 2, 3, 4}\n"
     ]
    },
    {
     "data": {
      "text/plain": [
       "{3, 4}"
      ]
     },
     "execution_count": 43,
     "metadata": {},
     "output_type": "execute_result"
    }
   ],
   "source": [
    "se1 = set([1,2,3,4,1,2,3])\n",
    "print(se1)\n",
    "se1.pop()\n",
    "se1.pop()\n",
    "se1"
   ]
  },
  {
   "cell_type": "markdown",
   "id": "c82844a9",
   "metadata": {},
   "source": [
    "#### 28. clearing the set"
   ]
  },
  {
   "cell_type": "code",
   "execution_count": 46,
   "id": "1606ff5c",
   "metadata": {},
   "outputs": [
    {
     "data": {
      "text/plain": [
       "set()"
      ]
     },
     "execution_count": 46,
     "metadata": {},
     "output_type": "execute_result"
    }
   ],
   "source": [
    "se4 = set([1,2,3,4,1,2,3])\n",
    "se4.clear()\n",
    "se4"
   ]
  },
  {
   "cell_type": "markdown",
   "id": "ed29d321",
   "metadata": {},
   "source": [
    "#### 29. union of two sets"
   ]
  },
  {
   "cell_type": "code",
   "execution_count": 48,
   "id": "f60e1907",
   "metadata": {},
   "outputs": [
    {
     "name": "stdout",
     "output_type": "stream",
     "text": [
      "Union is : {1, 2, 3, 4, 5, 6, 7, 8}\n",
      "Union is : {1, 2, 3, 4, 5, 6, 7, 8}\n"
     ]
    }
   ],
   "source": [
    "se1 = {1,2,3,4,5}\n",
    "se2 = {4,5,6,7,8}\n",
    "print(\"Union is :\", se1|se2)\n",
    "print(\"Union is :\",se1.union(se2))"
   ]
  },
  {
   "cell_type": "markdown",
   "id": "c6cc62e7",
   "metadata": {},
   "source": [
    "#### 30. intersection of two sets"
   ]
  },
  {
   "cell_type": "code",
   "execution_count": 49,
   "id": "68e58d9c",
   "metadata": {},
   "outputs": [
    {
     "name": "stdout",
     "output_type": "stream",
     "text": [
      "Intersect is : {4, 5}\n",
      "Intersect is : {4, 5}\n"
     ]
    }
   ],
   "source": [
    "se1 = {1,2,3,4,5}\n",
    "se2 = {4,5,6,7,8}\n",
    "print(\"Intersect is :\", se1&se2)\n",
    "print(\"Intersect is :\",se1.intersection(se2))"
   ]
  },
  {
   "cell_type": "markdown",
   "id": "9cfae9b8",
   "metadata": {},
   "source": [
    "#### 31. difference of two sets"
   ]
  },
  {
   "cell_type": "code",
   "execution_count": 50,
   "id": "3c6d9fdf",
   "metadata": {},
   "outputs": [
    {
     "name": "stdout",
     "output_type": "stream",
     "text": [
      "Difference is : {1, 2, 3}\n",
      "Difference is : {1, 2, 3}\n"
     ]
    }
   ],
   "source": [
    "se1 = {1,2,3,4,5}\n",
    "se2 = {4,5,6,7,8}\n",
    "print(\"Difference is :\", se1-se2)\n",
    "print(\"Difference is :\",se1.difference(se2))"
   ]
  },
  {
   "cell_type": "markdown",
   "id": "5f9429f1",
   "metadata": {},
   "source": [
    "#### 32. superset and subset and equalset"
   ]
  },
  {
   "cell_type": "code",
   "execution_count": 52,
   "id": "4a7acce2",
   "metadata": {},
   "outputs": [
    {
     "name": "stdout",
     "output_type": "stream",
     "text": [
      "True\n",
      "False\n",
      "False\n"
     ]
    }
   ],
   "source": [
    "se1 = {1,2,3,4,5}\n",
    "se2 = {1,2}\n",
    "se3 = {6,7,1}\n",
    "\n",
    "print(se1>se2)\n",
    "print(se1<se2)\n",
    "print(se2 == se3)"
   ]
  },
  {
   "cell_type": "markdown",
   "id": "86482cc5",
   "metadata": {},
   "source": [
    "#### 33. Numpy"
   ]
  },
  {
   "cell_type": "code",
   "execution_count": 2,
   "id": "9767b1f7",
   "metadata": {},
   "outputs": [
    {
     "name": "stdout",
     "output_type": "stream",
     "text": [
      "[1 2 3 4 5]\n",
      "1.26.1\n",
      "<class 'numpy.ndarray'>\n"
     ]
    }
   ],
   "source": [
    "import numpy as np\n",
    "arr = np.array([1,2,3,4,5])\n",
    "print(arr)\n",
    "\n",
    "print(np.__version__)\n",
    "\n",
    "print(type(arr))"
   ]
  },
  {
   "cell_type": "markdown",
   "id": "157f8809",
   "metadata": {},
   "source": [
    "#### 34. 0D array with value of 42"
   ]
  },
  {
   "cell_type": "code",
   "execution_count": 4,
   "id": "87be8d06",
   "metadata": {
    "scrolled": true
   },
   "outputs": [
    {
     "name": "stdout",
     "output_type": "stream",
     "text": [
      "42\n"
     ]
    }
   ],
   "source": [
    "arr1 = np.array(42)\n",
    "print(arr1)"
   ]
  },
  {
   "cell_type": "markdown",
   "id": "97f73902",
   "metadata": {},
   "source": [
    "#### 35. 1D array and 2D array"
   ]
  },
  {
   "cell_type": "code",
   "execution_count": 55,
   "id": "63d36393",
   "metadata": {},
   "outputs": [
    {
     "name": "stdout",
     "output_type": "stream",
     "text": [
      "[1 2 3 4 5 6]\n",
      "\n",
      "[[1 2 3]\n",
      " [4 5 6]]\n"
     ]
    }
   ],
   "source": [
    "arr1 = np.array([1,2,3,4,5,6])\n",
    "print(arr1)\n",
    "print()\n",
    "arr2 = np.array([[1,2,3],[4,5,6]])\n",
    "print(arr2)"
   ]
  },
  {
   "cell_type": "markdown",
   "id": "f7f725a6",
   "metadata": {},
   "source": [
    "#### 36. 3D array and 5D array"
   ]
  },
  {
   "cell_type": "code",
   "execution_count": 60,
   "id": "5bec301b",
   "metadata": {},
   "outputs": [
    {
     "name": "stdout",
     "output_type": "stream",
     "text": [
      "[[[ 1  2  3]\n",
      "  [ 4  5  6]]\n",
      "\n",
      " [[ 7  8  9]\n",
      "  [10 11 12]]]\n"
     ]
    },
    {
     "data": {
      "text/plain": [
       "array([[[[[1, 2, 3, 4]]]]])"
      ]
     },
     "execution_count": 60,
     "metadata": {},
     "output_type": "execute_result"
    }
   ],
   "source": [
    "arr3 = np.array([[[1,2,3],[4,5,6]],[[7,8,9],[10,11,12]]])\n",
    "print(arr3)\n",
    "\n",
    "arr5 = np.array([1,2,3,4],ndmin=5)\n",
    "arr5"
   ]
  },
  {
   "cell_type": "markdown",
   "id": "b0057d0c",
   "metadata": {},
   "source": [
    "#### 37. indexing numpy and add 3rd and 4th element "
   ]
  },
  {
   "cell_type": "code",
   "execution_count": 13,
   "id": "4fc22ddd",
   "metadata": {},
   "outputs": [
    {
     "name": "stdout",
     "output_type": "stream",
     "text": [
      "2\n",
      "7\n"
     ]
    }
   ],
   "source": [
    "arr = np.array([1,2,3,4,5])\n",
    "print(arr[1])\n",
    "print(arr[2] + arr[3])"
   ]
  },
  {
   "cell_type": "markdown",
   "id": "29d5c530",
   "metadata": {},
   "source": [
    "#### 38. access element in 2D array"
   ]
  },
  {
   "cell_type": "code",
   "execution_count": 15,
   "id": "293a4e84",
   "metadata": {},
   "outputs": [
    {
     "name": "stdout",
     "output_type": "stream",
     "text": [
      "2nd element in 1st row : 2\n",
      "[2 3 4 5]\n"
     ]
    }
   ],
   "source": [
    "# access element in 2D array\n",
    "arr = np.array([[1,2,3],[4,5,6]])\n",
    "print(\"2nd element in 1st row :\", arr[0][1])\n",
    "\n",
    "# slicing from index 1 to 5\n",
    "arr = np.array([1,2,3,4,5,6,7,8])\n",
    "print(arr[1:5])"
   ]
  },
  {
   "cell_type": "markdown",
   "id": "9448ad50",
   "metadata": {},
   "source": [
    "#### 39. slicing from index 1 to 5 and stepping 2"
   ]
  },
  {
   "cell_type": "code",
   "execution_count": 16,
   "id": "fa5e88f9",
   "metadata": {},
   "outputs": [
    {
     "name": "stdout",
     "output_type": "stream",
     "text": [
      "[2 4]\n",
      "[1 3 5 7]\n"
     ]
    }
   ],
   "source": [
    "# slicing from index 1 to 5 and stepping 2\n",
    "arr = np.array([1,2,3,4,5,6,7,8])\n",
    "print(arr[1:5:2])\n",
    "\n",
    "# every other element\n",
    "arr = np.array([1,2,3,4,5,6,7,8])\n",
    "print(arr[::2])"
   ]
  },
  {
   "cell_type": "markdown",
   "id": "c9a59646",
   "metadata": {},
   "source": [
    "#### 40. np array datatypes"
   ]
  },
  {
   "cell_type": "code",
   "execution_count": 17,
   "id": "46556ac8",
   "metadata": {
    "scrolled": true
   },
   "outputs": [
    {
     "name": "stdout",
     "output_type": "stream",
     "text": [
      "<U6\n",
      "|S1\n"
     ]
    }
   ],
   "source": [
    "# np array datatypes\n",
    "\n",
    "arr = np.array([\"Jerry\", \"Cherry\"])\n",
    "print(arr.dtype)\n",
    "\n",
    "arr = np.array([1,2,3,4], dtype = 'S')\n",
    "print(arr.dtype)"
   ]
  },
  {
   "cell_type": "markdown",
   "id": "caf837ac",
   "metadata": {},
   "source": [
    "#### 41. create 4 bytes integer array"
   ]
  },
  {
   "cell_type": "code",
   "execution_count": 21,
   "id": "66cf2d56",
   "metadata": {},
   "outputs": [
    {
     "name": "stdout",
     "output_type": "stream",
     "text": [
      "[1 2 3 4]\n",
      "int32\n",
      "[1 2 3 4]\n"
     ]
    }
   ],
   "source": [
    "# create 4 bytes integer array\n",
    "arr = np.array([1,2,3,4], dtype = 'i4')\n",
    "print(arr)\n",
    "print(arr.dtype)\n",
    "\n",
    "# datatype alter np.array\n",
    "arr = np.array([1.1,2.6,3,4])\n",
    "newarr = arr.astype(int)\n",
    "print(newarr)"
   ]
  },
  {
   "cell_type": "markdown",
   "id": "7236aeca",
   "metadata": {},
   "source": [
    "#### 42. copy the array, modify and display the OG"
   ]
  },
  {
   "cell_type": "code",
   "execution_count": 23,
   "id": "748b638d",
   "metadata": {
    "scrolled": true
   },
   "outputs": [
    {
     "name": "stdout",
     "output_type": "stream",
     "text": [
      "Copy : [1 2 3 4]\n",
      "OG : [42  2  3  4]\n"
     ]
    }
   ],
   "source": [
    "# copy the array, modify and display the OG\n",
    "arr = np.array([1,2,3,4])\n",
    "x = arr.copy()\n",
    "arr[0] = 42\n",
    "\n",
    "print(\"Copy :\", x)\n",
    "print(\"OG :\",arr)"
   ]
  },
  {
   "cell_type": "markdown",
   "id": "4adbe8e2",
   "metadata": {},
   "source": [
    "#### 43. iteration of 2D array"
   ]
  },
  {
   "cell_type": "code",
   "execution_count": 25,
   "id": "2940f01a",
   "metadata": {},
   "outputs": [
    {
     "name": "stdout",
     "output_type": "stream",
     "text": [
      "[ 1  2  3 11]\n",
      "[ 4  5  6 12]\n",
      "1\n",
      "3\n",
      "4\n",
      "6\n"
     ]
    }
   ],
   "source": [
    "# iteration of 2D array\n",
    "arr = np.array([[1,2,3,11],[4,5,6,12]])\n",
    "for i in arr:\n",
    "    print(i)\n",
    "for i in np.nditer(arr[:,::2]):\n",
    "    print(i)"
   ]
  },
  {
   "cell_type": "markdown",
   "id": "7677637f",
   "metadata": {},
   "source": [
    "#### 44. stacking, same as concat but along a new axis"
   ]
  },
  {
   "cell_type": "code",
   "execution_count": 30,
   "id": "b3b7ef21",
   "metadata": {},
   "outputs": [
    {
     "data": {
      "text/plain": [
       "array([[1, 4],\n",
       "       [2, 5],\n",
       "       [3, 6]])"
      ]
     },
     "execution_count": 30,
     "metadata": {},
     "output_type": "execute_result"
    }
   ],
   "source": [
    "# stacking, same as concat but along a new axis\n",
    "arr1 = np.array([1,2,3])\n",
    "arr2 = np.array([4,5,6])\n",
    "arr = np.stack((arr1, arr2), axis=1)\n",
    "arr"
   ]
  },
  {
   "cell_type": "markdown",
   "id": "3a284c98",
   "metadata": {},
   "source": [
    "#### 45. splitting the array"
   ]
  },
  {
   "cell_type": "code",
   "execution_count": 34,
   "id": "3f38e43a",
   "metadata": {},
   "outputs": [
    {
     "name": "stdout",
     "output_type": "stream",
     "text": [
      "[array([1, 2, 3]), array([4, 5, 6]), array([7, 8])]\n",
      "[1 2 3]\n",
      "[4 5 6]\n"
     ]
    }
   ],
   "source": [
    "# splitting the array\n",
    "arr = np.array([1,2,3,4,5,6,7,8])\n",
    "x = np.array_split(arr,3)\n",
    "print(x)\n",
    "print(x[0])\n",
    "print(x[1])"
   ]
  },
  {
   "cell_type": "markdown",
   "id": "33c715ca",
   "metadata": {},
   "source": [
    "#### 46. index finding"
   ]
  },
  {
   "cell_type": "code",
   "execution_count": 36,
   "id": "f29f20b0",
   "metadata": {},
   "outputs": [
    {
     "name": "stdout",
     "output_type": "stream",
     "text": [
      "4 is at (array([3], dtype=int64),) position\n",
      "even numbers are at (array([1, 3, 5, 7], dtype=int64),) positions\n"
     ]
    }
   ],
   "source": [
    "# index finding\n",
    "arr = np.array([1,2,3,4,5,6,7,8])\n",
    "x = np.where(arr == 4)\n",
    "print(\"4 is at\",x,\"position\")\n",
    "x = np.where(arr%2 == 0)\n",
    "print(\"even numbers are at\",x,\"positions\")"
   ]
  },
  {
   "cell_type": "markdown",
   "id": "0e007d9a",
   "metadata": {},
   "source": [
    "#### 47. sorting"
   ]
  },
  {
   "cell_type": "code",
   "execution_count": 37,
   "id": "dcd71ca7",
   "metadata": {},
   "outputs": [
    {
     "name": "stdout",
     "output_type": "stream",
     "text": [
      "[1 2 3 4 5 6 7 8]\n"
     ]
    }
   ],
   "source": [
    "# sorting\n",
    "arr = np.array([1,2,5,6,7,8,3,4])\n",
    "print(np.sort(arr))"
   ]
  },
  {
   "cell_type": "markdown",
   "id": "d66a5eae",
   "metadata": {},
   "source": [
    "#### 48. filtering array"
   ]
  },
  {
   "cell_type": "code",
   "execution_count": 38,
   "id": "f884b102",
   "metadata": {},
   "outputs": [
    {
     "name": "stdout",
     "output_type": "stream",
     "text": [
      "[False, True, True, True]\n",
      "[15 18 19]\n"
     ]
    }
   ],
   "source": [
    "# filtering array\n",
    "arr = np.array([12, 15, 18, 19])\n",
    "emt_arr = []\n",
    "\n",
    "for i in arr:\n",
    "    if i > 13:\n",
    "        emt_arr.append(True)\n",
    "    else:\n",
    "        emt_arr.append(False)\n",
    "new_arr = arr[emt_arr]\n",
    "print(emt_arr)\n",
    "print(new_arr)"
   ]
  },
  {
   "cell_type": "markdown",
   "id": "e36c2510",
   "metadata": {},
   "source": [
    "#### 49. Random choosing"
   ]
  },
  {
   "cell_type": "code",
   "execution_count": 41,
   "id": "d67e3700",
   "metadata": {},
   "outputs": [
    {
     "name": "stdout",
     "output_type": "stream",
     "text": [
      "[4 4 6 6 4 6 6 4 6 6 6 4 6 6 6 6 4 6 4 4 4 6 6 4 6 6 6 6 6 4 6 4 6 4 4 6 6\n",
      " 6 4 2 6 2 6 6 4 4 6 6 6 6 6 4 2 4 4 4 6 6 4 4 6 4 6 6 2 4 2 6 6 4 6 2 6 6\n",
      " 6 4 6 4 6 6 6 6 6 6 6 2 2 6 6 4 6 2 6 6 6 6 2 4 2 6 4 6 6 6 4 6 2 6 4 4 6\n",
      " 4 6 2 4 2 6 6 2 6 2 6 6 4 6 2 4 4 6 6 2 6 6 6 6 6 6 4 4 6 6 6 6 6 4 6 2 6\n",
      " 6 6 6 4 6 2 6 6 6 4 2 4 6 4 6 6 4 6 6 2 4 6 6 6 2 4 6 4 6 4 6 4 6 4 4 6 4\n",
      " 4 6 6 2 4 4 2 6 4 6 4 6 2 4 4]\n"
     ]
    }
   ],
   "source": [
    "from numpy import random\n",
    "print(random.choice([2,4,6,8], p=[0.1, 0.3, 0.6, 0.0],size = (200)))"
   ]
  },
  {
   "cell_type": "code",
   "execution_count": null,
   "id": "80cd42b7",
   "metadata": {},
   "outputs": [],
   "source": []
  }
 ],
 "metadata": {
  "kernelspec": {
   "display_name": "Python 3 (ipykernel)",
   "language": "python",
   "name": "python3"
  },
  "language_info": {
   "codemirror_mode": {
    "name": "ipython",
    "version": 3
   },
   "file_extension": ".py",
   "mimetype": "text/x-python",
   "name": "python",
   "nbconvert_exporter": "python",
   "pygments_lexer": "ipython3",
   "version": "3.11.3"
  }
 },
 "nbformat": 4,
 "nbformat_minor": 5
}
